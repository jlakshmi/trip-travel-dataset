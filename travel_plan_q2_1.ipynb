{
  "nbformat": 4,
  "nbformat_minor": 0,
  "metadata": {
    "colab": {
      "provenance": [],
      "authorship_tag": "ABX9TyOwxhuqr6t7bvrGflYd9PKl",
      "include_colab_link": true
    },
    "kernelspec": {
      "name": "python3",
      "display_name": "Python 3"
    },
    "language_info": {
      "name": "python"
    }
  },
  "cells": [
    {
      "cell_type": "markdown",
      "metadata": {
        "id": "view-in-github",
        "colab_type": "text"
      },
      "source": [
        "<a href=\"https://colab.research.google.com/github/jlakshmi/trip-travel-dataset/blob/main/travel_plan_q2_1.ipynb\" target=\"_parent\"><img src=\"https://colab.research.google.com/assets/colab-badge.svg\" alt=\"Open In Colab\"/></a>"
      ]
    },
    {
      "cell_type": "code",
      "execution_count": null,
      "metadata": {
        "id": "Aq-fHv1ZPA09"
      },
      "outputs": [],
      "source": []
    },
    {
      "cell_type": "code",
      "source": [
        "import random\n",
        "\n",
        "def generate_random_solution(num_cities):\n",
        "    # Generate a random initial solution\n",
        "    return random.sample(range(num_cities), num_cities)\n",
        "\n",
        "def two_opt_swap(solution, i, j):\n",
        "    # Perform a 2-opt swap on the solution\n",
        "    new_solution = solution.copy()\n",
        "    new_solution[i:j+1] = reversed(solution[i:j+1])\n",
        "    return new_solution\n",
        "\n",
        "def total_distance(solution, distances):\n",
        "    # Calculate the total distance of the solution\n",
        "    dist = sum(distances[solution[i]][solution[i+1]] for i in range(len(solution) - 1))\n",
        "    dist += distances[solution[-1]][solution[0]]  # Return to the starting city\n",
        "    return dist\n",
        "\n",
        "def local_search(solution, distances):\n",
        "    # Perform a simple local search (2-opt swap)\n",
        "    improved = True\n",
        "    while improved:\n",
        "        improved = False\n",
        "        for i in range(1, len(solution) - 2):\n",
        "            for j in range(i + 1, len(solution)):\n",
        "                if j - i == 1: continue  # No point in reversing a segment of length 1\n",
        "                new_solution = two_opt_swap(solution, i, j)\n",
        "                new_distance = total_distance(new_solution, distances)\n",
        "                if new_distance < total_distance(solution, distances):\n",
        "                    solution = new_solution\n",
        "                    improved = True\n",
        "                    break\n",
        "            if improved:\n",
        "                break\n",
        "    return solution\n",
        "\n",
        "def MRSILS(num_restarts, max_iterations, num_cities, distances):\n",
        "    best_solution = None\n",
        "    best_distance = float('inf')\n",
        "\n",
        "    for _ in range(num_restarts):\n",
        "        # Generate a random initial solution\n",
        "        solution = generate_random_solution(num_cities)\n",
        "\n",
        "        # Perform local search\n",
        "        for _ in range(max_iterations):\n",
        "            new_solution = local_search(solution, distances)\n",
        "            new_distance = total_distance(new_solution, distances)\n",
        "            if new_distance < best_distance:\n",
        "                best_solution = new_solution\n",
        "                best_distance = new_distance\n",
        "            solution = new_solution\n",
        "\n",
        "    return best_solution, best_distance\n",
        "\n",
        "# Example usage\n",
        "num_cities = 11\n",
        "distances = [\n",
        "        [0, 248, 134, 166, 190, 290, 477, 624, 351, 546, 461],\n",
        "        [248, 0, 316, 318, 373, 400, 426, 504, 283, 426, 341],\n",
        "        [134, 316, 0, 118, 78, 177, 364, 562, 313, 482, 487],\n",
        "        [166, 318, 118, 0, 94, 161, 349, 430, 203, 349, 427],\n",
        "        [190, 373, 78, 94, 0, 104, 291, 489, 240, 408, 501],\n",
        "        [290, 400, 177, 161, 104, 0, 189, 387, 174, 306, 403],\n",
        "        [477, 426, 364, 349, 291, 189, 0, 199, 148, 118, 254],\n",
        "        [624, 504, 562, 430, 489, 387, 199, 0, 253, 77, 223],\n",
        "        [351, 283, 313, 203, 240, 174, 148, 253, 0, 173, 242],\n",
        "        [546, 426,482, 349, 408, 306, 118, 77, 173, 0 , 143],\n",
        "        [461, 341, 487, 427, 501, 403, 254, 223, 242, 143,0]\n",
        "    ]\n",
        " # Example distance matrix\n",
        "\n",
        "num_restarts = 10\n",
        "max_iterations = 100\n",
        "best_solution, best_distance = MRSILS(num_restarts, max_iterations, num_cities, distances)\n",
        "\n",
        "print(\"Best Solution:\", best_solution)\n",
        "print(\"Best Distance:\", best_distance)\n"
      ],
      "metadata": {
        "id": "W8OKJtkIE8-_",
        "outputId": "ce4d56a0-c42a-43ba-e2f5-02b8e0146539",
        "colab": {
          "base_uri": "https://localhost:8080/"
        }
      },
      "execution_count": null,
      "outputs": [
        {
          "output_type": "stream",
          "name": "stdout",
          "text": [
            "Best Solution: [10, 7, 9, 6, 8, 5, 4, 3, 2, 0, 1]\n",
            "Best Distance: 1779\n"
          ]
        }
      ]
    },
    {
      "cell_type": "code",
      "source": [
        "import numpy as np\n",
        "\n",
        "# Define the states\n",
        "states = [\"Dandeli\",\"Hampi\", \"Gokarna\", \"Jog Falls\", \"Murdeshwar\",\"Udupi\",\"Coorg\",\"Bandipur\",\"Chikkamagalur\",\"Mysore\",\"Bangalore\"]\n",
        "\n",
        "# Define the transition matrix\n",
        "transition_matrix = np.array([\n",
        "    [0.00, 0.07, 0.04, 0.05, 0.05, 0.08, 0.14, 0.18, 0.10, 0.16, 0.13],\n",
        "    [0.07, 0.05, 0.09, 0.09, 0.10, 0.11, 0.12, 0.14, 0.08, 0.12, 0.03],\n",
        "    [0.04, 0.09, 0.02, 0.04, 0.03, 0.06, 0.12, 0.15, 0.10, 0.16, 0.19],\n",
        "    [0.05,0.09,0.04,0.06,0.04,0.06,0.13,0.16,0.08,0.13,0.16],\n",
        "    [0.05,0.10,0.01,0.04,0.05,0.04,0.11,0.08,0.09,0.15,0.28],\n",
        "    [0.08,0.11,0.06,0.06,0.04,0.09,0.07,0.05,0.07,0.11,0.26],\n",
        "    [0.14,0.12,0.12,0.13,0.11,0.07,0.06,0.07,0.05,0.04,0.09],\n",
        "    [0.18,0.14,0.19,0.16,0.18,0.15,0.07,0.02,0.10,0.10,-0.29],\n",
        "    [0.10,0.08,0.11,0.09,0.07,0.06,0.05,0.07,0.19,0.13,0.05],\n",
        "    [0.16,0.06,0.16,0.12,0.15,0.12,0.04,0.02,0.07,0.00,0.10],\n",
        "    [0.13,0.09,0.16,0.16,0.18,0.16,0.09,0.06,0.07,-0.10,0.00]\n",
        "])\n",
        "\n",
        "# Function to simulate a trip\n",
        "def simulate_trip(start_state, steps=5):\n",
        "    current_state = start_state\n",
        "    trip = [current_state]\n",
        "    for _ in range(steps):\n",
        "        current_state = np.random.choice(states, p=transition_matrix[states.index(current_state)])\n",
        "        trip.append(current_state)\n",
        "    return trip\n",
        "\n",
        "# Example usage\n",
        "start_state = \"Gokarna\"\n",
        "trip = simulate_trip(start_state, steps=5)\n",
        "print(\"Trip:\", trip)\n"
      ],
      "metadata": {
        "colab": {
          "base_uri": "https://localhost:8080/"
        },
        "id": "rfX83plupo7j",
        "outputId": "47e0c117-60c0-460a-e938-b331a2e44d9b"
      },
      "execution_count": null,
      "outputs": [
        {
          "output_type": "stream",
          "name": "stdout",
          "text": [
            "Trip: ['Gokarna', 'Hampi', 'Murdeshwar', 'Hampi', 'Udupi', 'Mysore']\n"
          ]
        }
      ]
    },
    {
      "cell_type": "code",
      "source": [
        "import numpy as np\n",
        "import random\n",
        "import matplotlib.pyplot as plt\n",
        "\n",
        "def calculate_distance(points, tour):\n",
        "    total_distance = 0\n",
        "    for i in range(len(tour) - 1):\n",
        "        total_distance += np.linalg.norm(np.array(points[tour[i]]) - np.array(points[tour[i+1]]))\n",
        "    total_distance += np.linalg.norm(np.array(points[tour[-1]]) - np.array(points[tour[0]]))\n",
        "    return total_distance\n",
        "\n",
        "def two_opt_swap(tour, i, j):\n",
        "    new_tour = tour[:i] + tour[i:j+1][::-1] + tour[j+1:]\n",
        "    return new_tour\n",
        "\n",
        "def two_opt(points, max_iter=1000):\n",
        "    num_cities = len(points)\n",
        "    tour = list(range(num_cities))\n",
        "    best_tour = tour\n",
        "    best_distance = calculate_distance(points, best_tour)\n",
        "    improvement = True\n",
        "    iteration = 0\n",
        "\n",
        "    while improvement and iteration < max_iter:\n",
        "        improvement = False\n",
        "        for i in range(1, num_cities - 1):\n",
        "            for j in range(i+1, num_cities):\n",
        "                new_tour = two_opt_swap(tour, i, j)\n",
        "                new_distance = calculate_distance(points, new_tour)\n",
        "                if new_distance < best_distance:\n",
        "                    best_tour = new_tour\n",
        "                    best_distance = new_distance\n",
        "                    improvement = True\n",
        "        tour = best_tour\n",
        "        iteration += 1\n",
        "\n",
        "    return best_tour, best_distance\n",
        "\n",
        "# Generate random points (cities)\n",
        "num_cities = 11\n",
        "points = points = np.array([[15.249678, 74.617371], [15.334880, 76.462044], [12.971599, 77.594566], [11.758409, 76.445381], [12.295810, 76.639381], [11.758409, 76.445381], [13.303880, 75.78878], [13.340881, 74.742142], [15.349390, 75.109520], [14.223900, 74.808891], [14.546300, 74.324020]])\n",
        "\n",
        "# Solve TSP using 2-opt\n",
        "best_tour, best_distance = two_opt(points)\n",
        "\n",
        "# Plot the tour\n",
        "plt.figure(figsize=(8, 6))\n",
        "plt.scatter(points[:, 0], points[:, 1], c='blue', marker='o')\n",
        "for i in range(num_cities):\n",
        "    plt.text(points[i, 0], points[i, 1], str(i), fontsize=12, ha='center', va='center')\n",
        "for i in range(num_cities - 1):\n",
        "    plt.plot([points[best_tour[i], 0], points[best_tour[i+1], 0]], [points[best_tour[i], 1], points[best_tour[i+1], 1]], 'k-')\n",
        "plt.plot([points[best_tour[-1], 0], points[best_tour[0], 0]], [points[best_tour[-1], 1], points[best_tour[0], 1]], 'k-')\n",
        "plt.title(f'TSP Solution using 2-opt: Total Distance = {best_distance:.2f}')\n",
        "plt.show()\n"
      ],
      "metadata": {
        "colab": {
          "base_uri": "https://localhost:8080/",
          "height": 545
        },
        "id": "9Fm05UWiVTYq",
        "outputId": "e7fabefa-1716-4fbf-f068-4e2ada79c798"
      },
      "execution_count": null,
      "outputs": [
        {
          "output_type": "display_data",
          "data": {
            "text/plain": [
              "<Figure size 800x600 with 1 Axes>"
            ],
            "image/png": "[encoded data removed]"
          },
          "metadata": {}
        }
      ]
    },
    {
      "cell_type": "code",
      "source": [
        "import numpy as np\n",
        "import random\n",
        "import matplotlib.pyplot as plt\n",
        "\n",
        "def calculate_distance(points, tour):\n",
        "    total_distance = 0\n",
        "    for i in range(len(tour) - 1):\n",
        "        total_distance += np.linalg.norm(points[tour[i]] - points[tour[i+1]])\n",
        "    total_distance += np.linalg.norm(points[tour[-1]] - points[tour[0]])\n",
        "    return total_distance\n",
        "\n",
        "def two_opt_swap(tour, i, j):\n",
        "    new_tour = tour[:i] + tour[i:j+1][::-1] + tour[j+1:]\n",
        "    return new_tour\n",
        "\n",
        "def two_opt(points, max_iter=1000):\n",
        "    num_cities = len(points)\n",
        "    tour = list(range(num_cities))\n",
        "    best_tour = tour\n",
        "    best_distance = calculate_distance(points, best_tour)\n",
        "    improvement = True\n",
        "    iteration = 0\n",
        "\n",
        "    while improvement and iteration < max_iter:\n",
        "        improvement = False\n",
        "        for i in range(1, num_cities - 1):\n",
        "            for j in range(i+1, num_cities):\n",
        "                new_tour = two_opt_swap(tour, i, j)\n",
        "                new_distance = calculate_distance(points, new_tour)\n",
        "                if new_distance < best_distance:\n",
        "                    best_tour = new_tour\n",
        "                    best_distance = new_distance\n",
        "                    improvement = True\n",
        "        tour = best_tour\n",
        "        iteration += 1\n",
        "\n",
        "    return best_tour, best_distance\n",
        "\n",
        "# Generate random points (cities)\n",
        "num_cities = 20\n",
        "random.seed(42)\n",
        "points = np.random.rand(num_cities, 2)\n",
        "\n",
        "# Solve TSP using 2-opt\n",
        "best_tour, best_distance = two_opt(points)\n",
        "\n",
        "# Plot the tour\n",
        "plt.figure(figsize=(8, 6))\n",
        "plt.scatter(points[:, 0], points[:, 1], c='blue', marker='o')\n",
        "for i in range(num_cities):\n",
        "    plt.text(points[i, 0], points[i, 1], str(i), fontsize=12, ha='center', va='center')\n",
        "for i in range(num_cities - 1):\n",
        "    plt.plot([points[best_tour[i], 0], points[best_tour[i+1], 0]], [points[best_tour[i], 1], points[best_tour[i+1], 1]], 'k-')\n",
        "plt.plot([points[best_tour[-1], 0], points[best_tour[0], 0]], [points[best_tour[-1], 1], points[best_tour[0], 1]], 'k-')\n",
        "plt.title(f'TSP Solution using 2-opt: Total Distance = {best_distance:.2f}')\n",
        "plt.show()\n"
      ],
      "metadata": {
        "colab": {
          "base_uri": "https://localhost:8080/",
          "height": 545
        },
        "id": "o1GhZIhIWaNx",
        "outputId": "fc832296-b070-4053-ce53-05af340656a9"
      },
      "execution_count": null,
      "outputs": [
        {
          "output_type": "display_data",
          "data": {
            "text/plain": [
              "<Figure size 800x600 with 1 Axes>"
            ],
            "image/png": "[encoded data removed]"
          },
          "metadata": {}
        }
      ]
    },
    {
      "cell_type": "code",
      "source": [
        "from math import radians, cos, sin, asin, sqrt\n",
        "import heapq\n",
        "\n",
        "EARTH_RADIUS = 6371.0  # Earth's radius in kilometers\n",
        "\n",
        "def haversine(lon1, lat1, lon2, lat2):\n",
        "    \"\"\"Calculate the great-circle distance between two points\n",
        "    on the Earth's surface using the Haversine formula.\"\"\"\n",
        "    lon1, lat1, lon2, lat2 = map(radians, [lon1, lat1, lon2, lat2])\n",
        "    dlon = lon2 - lon1\n",
        "    dlat = lat2 - lat1\n",
        "    a = sin(dlat / 2)**2 + cos(lat1) * cos(lat2) * sin(dlon / 2)**2\n",
        "    c = 2 * asin(sqrt(a))\n",
        "    return c * EARTH_RADIUS\n",
        "\n",
        "class Node:\n",
        "    def __init__(self, state, parent=None, g=0, h=0):\n",
        "        self.state = state\n",
        "        self.parent = parent\n",
        "        self.g = g  # cost from start node to current node\n",
        "        self.h = h  # heuristic cost from current node to goal node\n",
        "\n",
        "    def f(self):\n",
        "        return self.g + self.h\n",
        "\n",
        "def astar(start, goal, graph, heuristic):\n",
        "    open_set = []\n",
        "    closed_set = set()\n",
        "\n",
        "    start_node = Node(start, None, 0, heuristic(*start, *goal))\n",
        "    heapq.heappush(open_set, (start_node.f(), id(start_node), start_node))\n",
        "\n",
        "    while open_set:\n",
        "        _, _, current_node = heapq.heappop(open_set)\n",
        "\n",
        "        if current_node.state == goal:\n",
        "            path = []\n",
        "            while current_node:\n",
        "                path.append(current_node.state)\n",
        "                current_node = current_node.parent\n",
        "            return path[::-1]\n",
        "\n",
        "        closed_set.add(current_node.state)\n",
        "\n",
        "        for neighbor in graph[current_node.state]:\n",
        "            if neighbor in closed_set:\n",
        "                continue\n",
        "\n",
        "            g = current_node.g + graph[current_node.state][neighbor]\n",
        "            h = heuristic(*neighbor, *goal)\n",
        "            new_node = Node(neighbor, current_node, g, h)\n",
        "            heapq.heappush(open_set, (new_node.f(), id(new_node), new_node))\n",
        "\n",
        "    return None\n",
        "\n",
        "# Example graph representation with latitude and longitude coordinates\n",
        "graph = {\n",
        "    (12.9716, 77.5946): {(12.9716, 77.5956): 10, (12.9726, 77.5946): 15},\n",
        "    (12.9716, 77.5956): {(12.9716, 77.5946): 10, (12.9726, 77.5956): 10},\n",
        "    (12.9726, 77.5946): {(12.9716, 77.5946): 15, (12.9726, 77.5956): 5},\n",
        "    (12.9726, 77.5956): {(12.9716, 77.5956): 10, (12.9726, 77.5946): 5}\n",
        "}\n",
        "\n",
        "start = (12.9716, 77.5946)\n",
        "goal = (12.9726, 77.5956)\n",
        "\n",
        "path = astar(start, goal, graph, haversine)\n",
        "if path:\n",
        "    print(\"Path found:\", path)\n",
        "    total_distance = sum(haversine(path[i][1], path[i][0], path[i + 1][1], path[i + 1][0]) for i in range(len(path) - 1))\n",
        "    print(\"Total distance:\", total_distance)\n",
        "else:\n",
        "    print(\"Path not found\")\n"
      ],
      "metadata": {
        "colab": {
          "base_uri": "https://localhost:8080/"
        },
        "id": "F6km54s2EWqW",
        "outputId": "ff6d3c34-4733-4e50-c662-bed101dff18c"
      },
      "execution_count": null,
      "outputs": [
        {
          "output_type": "stream",
          "name": "stdout",
          "text": [
            "Path found: [(12.9716, 77.5946), (12.9716, 77.5956), (12.9726, 77.5956)]\n",
            "Total distance: 0.21955231969990985\n"
          ]
        }
      ]
    },
    {
      "cell_type": "code",
      "source": [
        "from math import radians, cos, sin, asin, sqrt\n",
        "import heapq\n",
        "\n",
        "EARTH_RADIUS = 6371.0  # Earth's radius in kilometers\n",
        "\n",
        "def haversine(lon1, lat1, lon2, lat2):\n",
        "    \"\"\"Calculate the great-circle distance between two points\n",
        "    on the Earth's surface using the Haversine formula.\"\"\"\n",
        "    lon1, lat1, lon2, lat2 = map(radians, [lon1, lat1, lon2, lat2])\n",
        "    dlon = lon2 - lon1\n",
        "    dlat = lat2 - lat1\n",
        "    a = sin(dlat / 2)**2 + cos(lat1) * cos(lat2) * sin(dlon / 2)**2\n",
        "    c = 2 * asin(sqrt(a))\n",
        "    return c * EARTH_RADIUS\n",
        "\n",
        "class Node:\n",
        "    def __init__(self, state, parent=None, g=0, h=0):\n",
        "        self.state = state\n",
        "        self.parent = parent\n",
        "        self.g = g  # cost from start node to current node\n",
        "        self.h = h  # heuristic cost from current node to goal node\n",
        "\n",
        "    def f(self):\n",
        "        return self.g + self.h\n",
        "\n",
        "def astar(start, goal, graph, heuristic):\n",
        "    open_set = []\n",
        "    closed_set = set()\n",
        "\n",
        "    start_node = Node(start, None, 0, heuristic(*start, *goal))\n",
        "    heapq.heappush(open_set, (start_node.f(), id(start_node), start_node))\n",
        "\n",
        "    while open_set:\n",
        "        _, _, current_node = heapq.heappop(open_set)\n",
        "\n",
        "        if current_node.state == goal:\n",
        "            path = []\n",
        "            while current_node:\n",
        "                path.append(current_node.state)\n",
        "                current_node = current_node.parent\n",
        "            return path[::-1]\n",
        "\n",
        "        closed_set.add(current_node.state)\n",
        "\n",
        "        for neighbor in graph[current_node.state]:\n",
        "            if neighbor in closed_set:\n",
        "                continue\n",
        "\n",
        "            g = current_node.g + graph[current_node.state][neighbor]\n",
        "            h = heuristic(*neighbor, *goal)\n",
        "            new_node = Node(neighbor, current_node, g, h)\n",
        "            heapq.heappush(open_set, (new_node.f(), id(new_node), new_node))\n",
        "\n",
        "    return None\n",
        "\n",
        "# Example graph representation with latitude and longitude coordinates\n",
        "graph = {\n",
        "    (15.249678,74.617371): {(15.249678,74.617371): 10, (14.223900,74.808891): 1},\n",
        "    (14.223900,74.808891): {(15.249678,74.617371): 10, (14.223900,74.808891): 1},\n",
        "    (15.249678,74.617371): {(15.249678,74.617371): 1, (14.223900,74.808891): 10},\n",
        "    (14.223900,74.808891): {(14.223900,74.808891): 10, (15.249678,74.617371): 1}\n",
        "}\n",
        "\n",
        "start = (15.249678,74.617371)\n",
        "goal = (14.223900,74.808891)\n",
        "\n",
        "path = astar(start, goal, graph, haversine)\n",
        "if path:\n",
        "    print(\"Path found:\", path)\n",
        "    total_distance = sum(haversine(path[i][1], path[i][0], path[i + 1][1], path[i + 1][0]) for i in range(len(path) - 1))\n",
        "    print(\"Total distance:\", total_distance)\n",
        "else:\n",
        "    print(\"Path not found\")\n"
      ],
      "metadata": {
        "colab": {
          "base_uri": "https://localhost:8080/"
        },
        "id": "G-TzimNmIctC",
        "outputId": "df98b54d-d87e-4e34-bca0-f04184973c0a"
      },
      "execution_count": null,
      "outputs": [
        {
          "output_type": "stream",
          "name": "stdout",
          "text": [
            "Path found: [(15.249678, 74.617371), (14.2239, 74.808891)]\n",
            "Total distance: 115.90575337459934\n"
          ]
        }
      ]
    },
    {
      "cell_type": "code",
      "source": [
        "from math import radians, cos, sin, asin, sqrt\n",
        "import heapq\n",
        "\n",
        "EARTH_RADIUS = 6371.0  # Earth's radius in kilometers\n",
        "\n",
        "def haversine(lon1, lat1, lon2, lat2):\n",
        "    \"\"\"Calculate the great-circle distance between two points\n",
        "    on the Earth's surface using the Haversine formula.\"\"\"\n",
        "    lon1, lat1, lon2, lat2 = map(radians, [lon1, lat1, lon2, lat2])\n",
        "    dlon = lon2 - lon1\n",
        "    dlat = lat2 - lat1\n",
        "    a = sin(dlat / 2)**2 + cos(lat1) * cos(lat2) * sin(dlon / 2)**2\n",
        "    c = 2 * asin(sqrt(a))\n",
        "    return c * EARTH_RADIUS\n",
        "\n",
        "class Node:\n",
        "    def __init__(self, state, parent=None, g=0, h=0):\n",
        "        self.state = state\n",
        "        self.parent = parent\n",
        "        self.g = g  # cost from start node to current node\n",
        "        self.h = h  # heuristic cost from current node to goal node\n",
        "\n",
        "    def f(self):\n",
        "        return self.g + self.h\n",
        "\n",
        "def astar(start, goal, graph, heuristic):\n",
        "    open_set = []\n",
        "    closed_set = set()\n",
        "\n",
        "    start_node = Node(start, None, 0, heuristic(*start, *goal))\n",
        "    heapq.heappush(open_set, (start_node.f(), id(start_node), start_node))\n",
        "\n",
        "    while open_set:\n",
        "        _, _, current_node = heapq.heappop(open_set)\n",
        "\n",
        "        if current_node.state == goal:\n",
        "            path = []\n",
        "            while current_node:\n",
        "                path.append(current_node.state)\n",
        "                current_node = current_node.parent\n",
        "            return path[::-1]\n",
        "\n",
        "        closed_set.add(current_node.state)\n",
        "\n",
        "        for neighbor in graph[current_node.state]:\n",
        "            if neighbor in closed_set:\n",
        "                continue\n",
        "\n",
        "            g = current_node.g + graph[current_node.state][neighbor]\n",
        "            h = heuristic(*neighbor, *goal)\n",
        "            new_node = Node(neighbor, current_node, g, h)\n",
        "            heapq.heappush(open_set, (new_node.f(), id(new_node), new_node))\n",
        "\n",
        "    return None\n",
        "\n",
        "# Example graph representation with latitude and longitude coordinates\n",
        "graph = {\n",
        "    (12.9716, 77.5946): {(14.543600,74.324020): 15, (12.9716, 77.5946): 32},\n",
        "    (14.543600,74.324020): {(12.9716, 77.5946): 15, (14.543600,74.324020): 32},\n",
        "    (12.9726, 77.5946): {(12.9716, 77.5946): 32,(14.543600,74.324020): 15},\n",
        "    (14.543600,74.324020): {(14.543600,74.324020): 32, (12.9726, 77.5946): 15}\n",
        "}\n",
        "\n",
        "start = (12.9716, 77.5946)\n",
        "goal =  (14.543600,74.324020)\n",
        "\n",
        "path = astar(start, goal, graph, haversine)\n",
        "if path:\n",
        "    print(\"Path found:\", path)\n",
        "    total_distance = sum(haversine(path[i][1], path[i][0], path[i + 1][1], path[i + 1][0]) for i in range(len(path) - 1))\n",
        "    print(\"Total distance:\", total_distance)\n",
        "else:\n",
        "    print(\"Path not found\")\n"
      ],
      "metadata": {
        "colab": {
          "base_uri": "https://localhost:8080/"
        },
        "id": "nolYvTF2fiZg",
        "outputId": "3bc6cfc1-7940-4c08-9f42-77b5c59b59a0"
      },
      "execution_count": null,
      "outputs": [
        {
          "output_type": "stream",
          "name": "stdout",
          "text": [
            "Path found: [(12.9716, 77.5946), (14.5436, 74.32402)]\n",
            "Total distance: 394.1074330854906\n"
          ]
        }
      ]
    },
    {
      "cell_type": "code",
      "source": [],
      "metadata": {
        "id": "qls6cSX1qiVi"
      },
      "execution_count": null,
      "outputs": []
    },
    {
      "cell_type": "code",
      "source": [
        "from math import radians, cos, sin, asin, sqrt\n",
        "import heapq\n",
        "\n",
        "EARTH_RADIUS = 6371.0  # Earth's radius in kilometers\n",
        "\n",
        "def haversine(lon1, lat1, lon2, lat2):\n",
        "    \"\"\"Calculate the great-circle distance between two points\n",
        "    on the Earth's surface using the Haversine formula.\"\"\"\n",
        "    lon1, lat1, lon2, lat2 = map(radians, [lon1, lat1, lon2, lat2])\n",
        "    dlon = lon2 - lon1\n",
        "    dlat = lat2 - lat1\n",
        "    a = sin(dlat / 2)**2 + cos(lat1) * cos(lat2) * sin(dlon / 2)**2\n",
        "    c = 2 * asin(sqrt(a))\n",
        "    return c * EARTH_RADIUS\n",
        "\n",
        "class Node:\n",
        "    def __init__(self, state, parent=None, g=0, h=0):\n",
        "        self.state = state\n",
        "        self.parent = parent\n",
        "        self.g = g  # cost from start node to current node\n",
        "        self.h = h  # heuristic cost from current node to goal node\n",
        "\n",
        "    def f(self):\n",
        "        return self.g + self.h\n",
        "\n",
        "def astar(start, goal, graph, heuristic):\n",
        "    open_set = []\n",
        "    closed_set = set()\n",
        "\n",
        "    start_node = Node(start, None, 0, heuristic(*start, *goal))\n",
        "    heapq.heappush(open_set, (start_node.f(), id(start_node), start_node))\n",
        "\n",
        "    while open_set:\n",
        "        _, _, current_node = heapq.heappop(open_set)\n",
        "\n",
        "        if current_node.state == goal:\n",
        "            path = []\n",
        "            while current_node:\n",
        "                path.append(current_node.state)\n",
        "                current_node = current_node.parent\n",
        "            return path[::-1]\n",
        "\n",
        "        closed_set.add(current_node.state)\n",
        "\n",
        "        for neighbor in graph[current_node.state]:\n",
        "            if neighbor in closed_set:\n",
        "                continue\n",
        "\n",
        "            g = current_node.g + graph[current_node.state][neighbor]\n",
        "            h = heuristic(*neighbor, *goal)\n",
        "            new_node = Node(neighbor, current_node, g, h)\n",
        "            heapq.heappush(open_set, (new_node.f(), id(new_node), new_node))\n",
        "\n",
        "    return None\n",
        "\n",
        "# Example graph representation with latitude and longitude coordinates\n",
        "graph = {\n",
        "    (12.9716, 77.5946): {(14.543600,74.324020): 15, (12.9716, 77.5946): 32},\n",
        "    (14.543600,74.324020): {(12.9716, 77.5946): 15, (14.543600,74.324020): 32},\n",
        "    (12.9726, 77.5946): {(12.9716, 77.5946): 32,(14.543600,74.324020): 15},\n",
        "    (14.543600,74.324020): {(14.543600,74.324020): 32, (12.9726, 77.5946): 15}\n",
        "}\n",
        "\n",
        "start = (12.9716, 77.5946)\n",
        "goal = (12.9726, 77.5956)\n",
        "\n",
        "path = astar(start, goal, graph, haversine)\n",
        "if path:\n",
        "    print(\"Path found:\", path)\n",
        "    total_distance = sum(haversine(path[i][1], path[i][0], path[i + 1][1], path[i + 1][0]) for i in range(len(path) - 1))\n",
        "    print(\"Total distance:\", total_distance)\n",
        "else:\n",
        "    print(\"Path not found\")\n"
      ],
      "metadata": {
        "colab": {
          "base_uri": "https://localhost:8080/"
        },
        "outputId": "9482fe03-4cbc-4862-c6ac-0a3111c48bda",
        "id": "8iigVfn6qio2"
      },
      "execution_count": null,
      "outputs": [
        {
          "output_type": "stream",
          "name": "stdout",
          "text": [
            "Path not found\n"
          ]
        }
      ]
    },
    {
      "cell_type": "markdown",
      "source": [
        "Dijkstra"
      ],
      "metadata": {
        "id": "y8SfRtLEY572"
      }
    },
    {
      "cell_type": "code",
      "source": [
        "import heapq\n",
        "\n",
        "def dijkstra(graph, start, end):\n",
        "    # Initialize distances to all nodes as infinite\n",
        "    distances = {node: float('infinity') for node in graph}\n",
        "    distances[start] = 0\n",
        "\n",
        "    # Priority queue to store nodes to visit\n",
        "    pq = [(0, start)]\n",
        "\n",
        "    while pq:\n",
        "        current_distance, current_node = heapq.heappop(pq)\n",
        "\n",
        "        # Skip if we have already found a better path to current_node\n",
        "        if current_distance > distances[current_node]:\n",
        "            continue\n",
        "\n",
        "        for neighbor, weight in graph[current_node].items():\n",
        "            distance = current_distance + weight\n",
        "\n",
        "            # If new path is shorter, update distance and push to queue\n",
        "            if distance < distances[neighbor]:\n",
        "                distances[neighbor] = distance\n",
        "                heapq.heappush(pq, (distance, neighbor))\n",
        "\n",
        "    # Return the shortest distance to the end node\n",
        "    return distances[end]\n",
        "\n",
        "# Example usage\n",
        "graph = {\n",
        "    'Dandeli': {'Hampi': 248, 'Gokarna': 134, 'Jog Falls':166, 'Murdeshwar':190,'Udupi':290},\n",
        "    'Hampi': {'Gokarna': 316, 'Jog Falls': 318, 'Murdeshwar': 373,'Udupi':400},\n",
        "    'Gokarna': {'Jog Falls': 118, 'Murdeshwar': 78, 'Udupi': 177},\n",
        "    'Jog Falls': {'Hampi': 318, 'Gokarna': 118,'Murdeshwar': 94, 'Udupi': 161},\n",
        "    'Murdeshwar':{'Gokarna': 78, 'Jog Falls':94,'Udupi':104},\n",
        "    'Udupi':{'Hampi': 400, 'Gokarna': 177, 'Jog Falls':161, 'Murdeshwar':104}\n",
        "\n",
        "\n",
        "}\n",
        "\n",
        "start = 'Dandeli'\n",
        "end = 'Udupi'\n",
        "shortest_distance = dijkstra(graph, start, end)\n",
        "print(f\"The shortest distance from {start} to {end} is {shortest_distance}\")\n"
      ],
      "metadata": {
        "colab": {
          "base_uri": "https://localhost:8080/"
        },
        "id": "SjOUIpeCV8fH",
        "outputId": "b6f04db1-088a-4e5a-9b0e-8ed01eaf7188"
      },
      "execution_count": null,
      "outputs": [
        {
          "output_type": "stream",
          "name": "stdout",
          "text": [
            "The shortest distance from Dandeli to Udupi is 290\n"
          ]
        }
      ]
    },
    {
      "cell_type": "markdown",
      "source": [
        "Bell man Ford"
      ],
      "metadata": {
        "id": "UzlYEGwsY9wH"
      }
    },
    {
      "cell_type": "code",
      "source": [
        "class Edge:\n",
        "    def __init__(self, u, v, weight):\n",
        "        self.u = u\n",
        "        self.v = v\n",
        "        self.weight = weight\n",
        "\n",
        "def bellman_ford(edges, V, start):\n",
        "    # Step 1: Initialize distances from start to all other vertices as INFINITE\n",
        "    distances = [float(\"Inf\")] * V\n",
        "    distances[start] = 0\n",
        "\n",
        "    # Step 2: Relax all edges |V| - 1 times.\n",
        "    for _ in range(V - 1):\n",
        "        for edge in edges:\n",
        "            if distances[edge.u] + edge.weight < distances[edge.v]:\n",
        "                distances[edge.v] = distances[edge.u] + edge.weight\n",
        "\n",
        "    # Step 3: Check for negative-weight cycles.\n",
        "    # The above step guarantees shortest distances if graph doesn't contain negative weight cycle.\n",
        "    # If we get a shorter path, then there is a cycle.\n",
        "    for edge in edges:\n",
        "        if distances[edge.u] + edge.weight < distances[edge.v]:\n",
        "            print(\"Graph contains negative weight cycle\")\n",
        "            return None\n",
        "\n",
        "    return distances\n",
        "\n",
        "# Example usage\n",
        "edges = [\n",
        "    Edge(0, 1, 248),\n",
        "    Edge(0, 2, 134),\n",
        "    Edge(0,3,166),\n",
        "    Edge(0,4,190),\n",
        "    Edge(0,5,290),\n",
        "    Edge(1, 2, 316),\n",
        "    Edge(1, 3, 318),\n",
        "     Edge(1, 4, 373),\n",
        "    Edge(1, 5, 400),\n",
        "    Edge(2, 3, 118),\n",
        "    Edge(2, 4, 78),\n",
        "      Edge(2, 5, 177),\n",
        "    Edge(3, 4, 94),\n",
        "    Edge(3, 5, 161),\n",
        "    Edge(4, 5, 104)\n",
        "]\n",
        "\n",
        "V = 6  # Number of vertices in graph\n",
        "start = 0  # Starting node\n",
        "\n",
        "distances = bellman_ford(edges, V, start)\n",
        "if distances:\n",
        "    print(\"Vertex Distance from Source\")\n",
        "    for i in range(V):\n",
        "        print(f\"{i}\\t\\t{distances[i]}\")\n"
      ],
      "metadata": {
        "colab": {
          "base_uri": "https://localhost:8080/"
        },
        "id": "3K_IQ3ApY8w_",
        "outputId": "db63802b-4591-4395-e7e7-a21d434399a1"
      },
      "execution_count": null,
      "outputs": [
        {
          "output_type": "stream",
          "name": "stdout",
          "text": [
            "Vertex Distance from Source\n",
            "0\t\t0\n",
            "1\t\t248\n",
            "2\t\t134\n",
            "3\t\t166\n",
            "4\t\t190\n",
            "5\t\t290\n"
          ]
        }
      ]
    },
    {
      "cell_type": "markdown",
      "source": [],
      "metadata": {
        "id": "TVeqt3Y4Y88H"
      }
    },
    {
      "cell_type": "code",
      "source": [],
      "metadata": {
        "id": "NlWeeEwQY5Ei"
      },
      "execution_count": null,
      "outputs": []
    }
  ]
}